{
 "cells": [
  {
   "cell_type": "code",
   "execution_count": 1,
   "id": "5a46fc84-1b87-4747-84b6-a2605fb166a6",
   "metadata": {},
   "outputs": [],
   "source": [
    "from pathlib import Path\n",
    "\n",
    "import cv2"
   ]
  },
  {
   "cell_type": "code",
   "execution_count": 3,
   "id": "443b1a3b-68a1-4ec0-a528-66dc23625c3e",
   "metadata": {},
   "outputs": [],
   "source": [
    "# Set path for generated frames (output)\n",
    "gen_fr_path = \"./genframes\"\n",
    "Path(gen_fr_path).mkdir(parents=True, exist_ok=True)"
   ]
  },
  {
   "cell_type": "code",
   "execution_count": 4,
   "id": "fbb3e541-2d10-4911-b4f0-9b6012ba979a",
   "metadata": {},
   "outputs": [],
   "source": [
    "# Heads classifier\n",
    "# To ease cropping directly to faces.\n",
    "# This algorithm only works on grayscale, so when reading the frames, we need\n",
    "# The frames to be grayscale.\n",
    "head_cascade = cv2.CascadeClassifier(\"./haarcascade_frontalface_default.xml\")"
   ]
  },
  {
   "cell_type": "code",
   "execution_count": 5,
   "id": "847d1567-6898-42ef-8368-21be45b8209a",
   "metadata": {},
   "outputs": [],
   "source": [
    "# Open the video and split to 10 frames\n",
    "video_ex = \"./samples/id0_0001.mp4\"\n",
    "\n",
    "for i in range(0, 10):\n",
    "    capture = cv2.VideoCapture(f\"./samples/id0_000{i}.mp4\")\n",
    "    frame_count = 0\n",
    "    while True:\n",
    "        if frame_count == 10: \n",
    "            break\n",
    "    \n",
    "        _, frame = capture.read()\n",
    "        greyed_frame = cv2.cvtColor(frame, cv2.COLOR_BGR2GRAY) \n",
    "    \n",
    "        # Detect heads from the frame\n",
    "        heads = head_cascade.detectMultiScale(\n",
    "            greyed_frame, \n",
    "            scaleFactor=1.1, \n",
    "            minNeighbors=5, \n",
    "            minSize=(64, 64)\n",
    "        )\n",
    "    \n",
    "        if len(heads) > 0:\n",
    "            x, y, w, h = heads[0]  # Grab the first detected head and its properties\n",
    "            cropped_head = frame[y:y+h, x:x+w]\n",
    "            cv2.imwrite(f\"./genframes/id0_000{i}_frame_{frame_count}.jpg\", cropped_head)\n",
    "        \n",
    "        frame_count += 1\n",
    "    \n",
    "    capture.release()"
   ]
  },
  {
   "cell_type": "code",
   "execution_count": null,
   "id": "ab9c229c-8126-428b-b890-2cda32fbb9b2",
   "metadata": {},
   "outputs": [],
   "source": []
  }
 ],
 "metadata": {
  "kernelspec": {
   "display_name": "Python 3 (ipykernel)",
   "language": "python",
   "name": "python3"
  },
  "language_info": {
   "codemirror_mode": {
    "name": "ipython",
    "version": 3
   },
   "file_extension": ".py",
   "mimetype": "text/x-python",
   "name": "python",
   "nbconvert_exporter": "python",
   "pygments_lexer": "ipython3",
   "version": "3.12.0"
  }
 },
 "nbformat": 4,
 "nbformat_minor": 5
}
