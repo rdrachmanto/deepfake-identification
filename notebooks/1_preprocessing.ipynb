{
 "cells": [
  {
   "cell_type": "markdown",
   "id": "39bc9f71-1368-413c-8e83-49cc2927cee5",
   "metadata": {},
   "source": [
    "## Preprocessing\n",
    "\n",
    "Below are example codes for preprocessing a raw dataset of videos into face frames, with `dlib` and `facenet_pytorch.MTCNN`. Make sure that the raw dataset has its directory structured like the one mentioned in the [README.md](../README.md).\n",
    "\n",
    "**Please be aware:** you might need to do manual intervention (re-running) as the face detection algorithms of `dlib` and `facenet_pytorch.MCTNN` might not detect faces in the frames. Check the log files available in `logs/` directory and watch for these messages:\n",
    "\n",
    "```bash\n",
    "ERROR:root:No face detected on ./videos-organized/Combined/FAKE/acdkfksyev.mp4 frame 233\n",
    "ERROR:root:No face detected on ./videos-organized/Combined/FAKE/alnkzqihau.mp4 frame 102\n",
    "```"
   ]
  },
  {
   "cell_type": "markdown",
   "id": "c66808b9-fe8f-4e1f-bb6f-65b31b396977",
   "metadata": {},
   "source": [
    "### Preliminary"
   ]
  },
  {
   "cell_type": "code",
   "execution_count": 1,
   "id": "b7654d68-b09d-4b06-9155-f666a0b8c9a4",
   "metadata": {},
   "outputs": [],
   "source": [
    "# Ensure __init__.py is being run before the script\n",
    "%run __init__.py"
   ]
  },
  {
   "cell_type": "markdown",
   "id": "943cca68-f34d-4774-899b-39fe1dd2771b",
   "metadata": {},
   "source": [
    "### Preprocessor\n",
    "\n",
    "There are two preprocessors: `MTCNNPreprocessor()` and `DlibPreprocessor`. Both have identical APIs. To instantiate the preprocessor classes, provide two arguments:\n",
    "\n",
    "- `dataset_path (str)`: Relative path to the raw dataset\n",
    "- `classes (list[str])`: Folders inside the dataset\n",
    "\n",
    "After instantiating, you can call `preprocess()` function to begin the frame extraction. Arguments for `preprocessor()` are:\n",
    "\n",
    "- `save_to (str)`: Where to save the extracted images\n",
    "- `n_frame (int)`: How many frames to extract per video\n",
    "- `cut_amount (float)`: Percentage of frames to be cut. e.g. setting to 0.1 is equal to 10% frames being cut in front and back, totaling 20%.\n",
    "- `batch_size (int)`: How many videos to process in a batch\n",
    "- `seed (int)`: To control the randomizer, guaranteeing identical reproducible results at every run."
   ]
  },
  {
   "cell_type": "markdown",
   "id": "7d481b9a-9605-43a7-9ac0-bb0a9dda3073",
   "metadata": {},
   "source": [
    "### With MTCNN"
   ]
  },
  {
   "cell_type": "code",
   "execution_count": 2,
   "id": "f9689803-3371-4dad-b357-e4268561d11a",
   "metadata": {},
   "outputs": [],
   "source": [
    "from src.generators.mtcnn_generators import MTCNNSampleGenerator"
   ]
  },
  {
   "cell_type": "code",
   "execution_count": 4,
   "id": "b605ca58-8b58-488d-8c8b-2470950027df",
   "metadata": {},
   "outputs": [],
   "source": [
    "prep = MTCNNSampleGenerator(\n",
    "    dataset_path=\"../data/raw/Celeb-DF-v2\",\n",
    "    classes=[\"REAL\", \"FAKE\"]\n",
    ")\n",
    "\n",
    "prep.preprocess(\n",
    "    save_to=\"../data/preprocessed/MTCNN-Celeb-DF-v2\",\n",
    "    n_frame=10,\n",
    "    cut_amount=0.15,\n",
    "    batch_size=10,\n",
    "    seed=42,\n",
    ")"
   ]
  },
  {
   "cell_type": "code",
   "execution_count": 4,
   "id": "5410bde4-27bc-4902-a9ca-8ea6d883bb17",
   "metadata": {},
   "outputs": [
    {
     "name": "stdout",
     "output_type": "stream",
     "text": [
      "Extracting ../data/raw/DFDC/REAL to ../data/preprocessed/MTCNN-DFDC/REAL done in 2366.79s\n",
      "Extracting ../data/raw/DFDC/FAKE to ../data/preprocessed/MTCNN-DFDC/FAKE done in 2421.98s\n"
     ]
    }
   ],
   "source": [
    "prep = MTCNNSampleGenerator(\n",
    "    dataset_path=\"../data/raw/DFDC\",\n",
    "    classes=[\"REAL\", \"FAKE\"]\n",
    ")\n",
    "\n",
    "prep.preprocess(\n",
    "    save_to=\"../data/preprocessed/MTCNN-DFDC\",\n",
    "    n_frame=10,\n",
    "    cut_amount=0.15,\n",
    "    batch_size=10,\n",
    "    seed=42,\n",
    ")"
   ]
  },
  {
   "cell_type": "code",
   "execution_count": 5,
   "id": "554bf61b-431b-4528-b391-372bf7700d11",
   "metadata": {},
   "outputs": [
    {
     "name": "stdout",
     "output_type": "stream",
     "text": [
      "Extracting ../data/raw/FaceForensics/REAL to ../data/preprocessed/MTCNN-FaceForensics/REAL done in 3668.26s\n",
      "Extracting ../data/raw/FaceForensics/FAKE to ../data/preprocessed/MTCNN-FaceForensics/FAKE done in 3594.76s\n"
     ]
    }
   ],
   "source": [
    "prep = MTCNNSampleGenerator(\n",
    "    dataset_path=\"../data/raw/FaceForensics\",\n",
    "    classes=[\"REAL\", \"FAKE\"]\n",
    ")\n",
    "\n",
    "prep.preprocess(\n",
    "    save_to=\"../data/preprocessed/MTCNN-FaceForensics\",\n",
    "    n_frame=10,\n",
    "    cut_amount=0.15,\n",
    "    batch_size=10,\n",
    "    seed=42,\n",
    ")"
   ]
  },
  {
   "cell_type": "code",
   "execution_count": 6,
   "id": "c4e2cba9-0b64-4c15-b583-f79d7a438b75",
   "metadata": {},
   "outputs": [
    {
     "name": "stdout",
     "output_type": "stream",
     "text": [
      "Extracting ../data/raw/Combined/REAL to ../data/preprocessed/MTCNN-Combined/REAL done in 4028.04s\n",
      "Extracting ../data/raw/Combined/FAKE to ../data/preprocessed/MTCNN-Combined/FAKE done in 3576.62s\n"
     ]
    }
   ],
   "source": [
    "prep = MTCNNSampleGenerator(\n",
    "    dataset_path=\"../data/raw/Combined\",\n",
    "    classes=[\"REAL\", \"FAKE\"]\n",
    ")\n",
    "\n",
    "prep.preprocess(\n",
    "    save_to=\"../data/preprocessed/MTCNN-Combined\",\n",
    "    n_frame=10,\n",
    "    cut_amount=0.15,\n",
    "    batch_size=10,\n",
    "    seed=42,\n",
    ")"
   ]
  },
  {
   "cell_type": "markdown",
   "id": "1c4aba7c-bcb9-4dbb-871b-3229a9c59184",
   "metadata": {},
   "source": [
    "### With Dlib"
   ]
  },
  {
   "cell_type": "code",
   "execution_count": 7,
   "id": "913b90ba-299f-4ae8-b0ca-1bbd4a634358",
   "metadata": {},
   "outputs": [],
   "source": [
    "from src.generators.dlib_generators import DlibSampleGenerator"
   ]
  },
  {
   "cell_type": "code",
   "execution_count": 8,
   "id": "8c1eedca-078d-4d6f-b4e7-40814b86639a",
   "metadata": {},
   "outputs": [
    {
     "name": "stdout",
     "output_type": "stream",
     "text": [
      "Extracting ../data/raw/Celeb-DF-v2/REAL to ../data/preprocessed/Dlib-Celeb-DF-v2/REAL done in 1572.8s\n",
      "Extracting ../data/raw/Celeb-DF-v2/FAKE to ../data/preprocessed/Dlib-Celeb-DF-v2/FAKE done in 1658.66s\n"
     ]
    }
   ],
   "source": [
    "prep = DlibSampleGenerator(\n",
    "    dataset_path=\"../data/raw/Celeb-DF-v2\",\n",
    "    classes=[\"REAL\", \"FAKE\"]\n",
    ")\n",
    "\n",
    "prep.preprocess(\n",
    "    save_to=\"../data/preprocessed/Dlib-Celeb-DF-v2\",\n",
    "    n_frame=10,\n",
    "    cut_amount=0.15,\n",
    "    batch_size=10,\n",
    "    seed=42,\n",
    ")"
   ]
  },
  {
   "cell_type": "code",
   "execution_count": 9,
   "id": "93af1a62-3de9-446b-bed4-bc6ec46b6955",
   "metadata": {},
   "outputs": [
    {
     "name": "stdout",
     "output_type": "stream",
     "text": [
      "Extracting ../data/raw/DFDC/REAL to ../data/preprocessed/Dlib-DFDC/REAL done in 5099.15s\n",
      "Extracting ../data/raw/DFDC/FAKE to ../data/preprocessed/Dlib-DFDC/FAKE done in 5071.03s\n"
     ]
    }
   ],
   "source": [
    "prep = DlibSampleGenerator(\n",
    "    dataset_path=\"../data/raw/DFDC\",\n",
    "    classes=[\"REAL\", \"FAKE\"]\n",
    ")\n",
    "\n",
    "prep.preprocess(\n",
    "    save_to=\"../data/preprocessed/Dlib-DFDC\",\n",
    "    n_frame=10,\n",
    "    cut_amount=0.15,\n",
    "    batch_size=10,\n",
    "    seed=42,\n",
    ")"
   ]
  },
  {
   "cell_type": "code",
   "execution_count": 10,
   "id": "83f3c43b-37cd-4a65-8e96-af78fa70f94d",
   "metadata": {},
   "outputs": [
    {
     "name": "stdout",
     "output_type": "stream",
     "text": [
      "Extracting ../data/raw/FaceForensics/REAL to ../data/preprocessed/Dlib-FaceForensics/REAL done in 5267.2s\n",
      "Extracting ../data/raw/FaceForensics/FAKE to ../data/preprocessed/Dlib-FaceForensics/FAKE done in 5375.04s\n"
     ]
    }
   ],
   "source": [
    "prep = DlibSampleGenerator(\n",
    "    dataset_path=\"../data/raw/FaceForensics\",\n",
    "    classes=[\"REAL\", \"FAKE\"]\n",
    ")\n",
    "\n",
    "prep.preprocess(\n",
    "    save_to=\"../data/preprocessed/Dlib-FaceForensics\",\n",
    "    n_frame=10,\n",
    "    cut_amount=0.15,\n",
    "    batch_size=10,\n",
    "    seed=42,\n",
    ")"
   ]
  },
  {
   "cell_type": "code",
   "execution_count": 11,
   "id": "b88a1a52-618a-4e8e-8b22-df90869c2371",
   "metadata": {},
   "outputs": [
    {
     "name": "stdout",
     "output_type": "stream",
     "text": [
      "Extracting ../data/raw/Combined/REAL to ../data/preprocessed/Dlib-Combined/REAL done in 6549.61s\n",
      "Extracting ../data/raw/Combined/FAKE to ../data/preprocessed/Dlib-Combined/FAKE done in 6265.16s\n"
     ]
    }
   ],
   "source": [
    "prep = DlibSampleGenerator(\n",
    "    dataset_path=\"../data/raw/Combined\",\n",
    "    classes=[\"REAL\", \"FAKE\"]\n",
    ")\n",
    "\n",
    "prep.preprocess(\n",
    "    save_to=\"../data/preprocessed/Dlib-Combined\",\n",
    "    n_frame=10,\n",
    "    cut_amount=0.15,\n",
    "    batch_size=10,\n",
    "    seed=42,\n",
    ")"
   ]
  }
 ],
 "metadata": {
  "kernelspec": {
   "display_name": "Python 3 (ipykernel)",
   "language": "python",
   "name": "python3"
  },
  "language_info": {
   "codemirror_mode": {
    "name": "ipython",
    "version": 3
   },
   "file_extension": ".py",
   "mimetype": "text/x-python",
   "name": "python",
   "nbconvert_exporter": "python",
   "pygments_lexer": "ipython3",
   "version": "3.10.14"
  }
 },
 "nbformat": 4,
 "nbformat_minor": 5
}
