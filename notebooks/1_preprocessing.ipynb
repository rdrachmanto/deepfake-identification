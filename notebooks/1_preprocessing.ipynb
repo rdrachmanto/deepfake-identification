{
 "cells": [
  {
   "cell_type": "markdown",
   "id": "39bc9f71-1368-413c-8e83-49cc2927cee5",
   "metadata": {},
   "source": [
    "## Preprocessing\n",
    "\n",
    "Below are example codes for preprocessing a raw dataset of videos into face frames, with `dlib` and `facenet_pytorch.MTCNN`. The dataset being used is a small, sample dataset of 10 images in each class, with its directory structured like the one mentioned in the [README.md](../README.md).\n",
    "\n",
    "**Please be aware:** you might need to do manual intervention (re-running) as the face detection algorithms of `dlib` and `facenet_pytorch.MCTNN` might not detect faces in the frames. For such cases, you will be alerted like below when executing `preprocess()`:\n",
    "\n",
    "```bash\n",
    "ERROR:root:No face detected on ./videos-organized/Combined/FAKE/acdkfksyev.mp4 frame 233\n",
    "ERROR:root:No face detected on ./videos-organized/Combined/FAKE/alnkzqihau.mp4 frame 102\n",
    "```"
   ]
  },
  {
   "cell_type": "code",
   "execution_count": 1,
   "id": "b7654d68-b09d-4b06-9155-f666a0b8c9a4",
   "metadata": {},
   "outputs": [],
   "source": [
    "# Ensure __init__.py is being run before the script\n",
    "%run __init__.py"
   ]
  },
  {
   "cell_type": "markdown",
   "id": "7d481b9a-9605-43a7-9ac0-bb0a9dda3073",
   "metadata": {},
   "source": [
    "### With MTCNN"
   ]
  },
  {
   "cell_type": "code",
   "execution_count": 2,
   "id": "f9689803-3371-4dad-b357-e4268561d11a",
   "metadata": {},
   "outputs": [
    {
     "name": "stderr",
     "output_type": "stream",
     "text": [
      "/home/rdrachmanto/.conda/envs/torchit/lib/python3.10/site-packages/tqdm/auto.py:21: TqdmWarning: IProgress not found. Please update jupyter and ipywidgets. See https://ipywidgets.readthedocs.io/en/stable/user_install.html\n",
      "  from .autonotebook import tqdm as notebook_tqdm\n"
     ]
    }
   ],
   "source": [
    "from src.preprocessing.mtcnn_preprocessor import MTCNNPreprocessor"
   ]
  },
  {
   "cell_type": "code",
   "execution_count": 3,
   "id": "b605ca58-8b58-488d-8c8b-2470950027df",
   "metadata": {},
   "outputs": [
    {
     "name": "stdout",
     "output_type": "stream",
     "text": [
      "Extracting ../data/raw/Sample/REAL to ../data/preprocessed/MTCNN-Sample/REAL done in 22.46s\n",
      "Extracting ../data/raw/Sample/FAKE to ../data/preprocessed/MTCNN-Sample/FAKE done in 21.85s\n"
     ]
    }
   ],
   "source": [
    "prep = MTCNNPreprocessor(\n",
    "    dataset_path=\"../data/raw/Sample\",\n",
    "    classes=[\"REAL\", \"FAKE\"]\n",
    ")\n",
    "\n",
    "prep.preprocess(\n",
    "    save_to=\"../data/preprocessed/MTCNN-Sample\",\n",
    "    n_frame=2,\n",
    "    cut_amount=0.15,\n",
    "    batch_size=10,\n",
    "    seed=42,\n",
    ")"
   ]
  },
  {
   "cell_type": "markdown",
   "id": "1c4aba7c-bcb9-4dbb-871b-3229a9c59184",
   "metadata": {},
   "source": [
    "### With Dlib"
   ]
  },
  {
   "cell_type": "code",
   "execution_count": 4,
   "id": "913b90ba-299f-4ae8-b0ca-1bbd4a634358",
   "metadata": {},
   "outputs": [],
   "source": [
    "from src.preprocessing.dlib_preprocessor import DlibPreprocessor"
   ]
  },
  {
   "cell_type": "code",
   "execution_count": 5,
   "id": "6159aa64-80fc-4634-8754-ef42e02f85f8",
   "metadata": {},
   "outputs": [
    {
     "name": "stdout",
     "output_type": "stream",
     "text": [
      "Extracting ../data/raw/Sample/REAL to ../data/preprocessed/Dlib-Sample/REAL done in 36.63s\n",
      "Extracting ../data/raw/Sample/FAKE to ../data/preprocessed/Dlib-Sample/FAKE done in 37.57s\n"
     ]
    }
   ],
   "source": [
    "prep = DlibPreprocessor(\n",
    "    dataset_path=\"../data/raw/Sample\",\n",
    "    classes=[\"REAL\", \"FAKE\"]\n",
    ")\n",
    "\n",
    "prep.preprocess(\n",
    "    save_to=\"../data/preprocessed/Dlib-Sample\",\n",
    "    n_frame=2,\n",
    "    cut_amount=0.15,\n",
    "    batch_size=10,\n",
    "    seed=42,\n",
    ")"
   ]
  }
 ],
 "metadata": {
  "kernelspec": {
   "display_name": "Python 3 (ipykernel)",
   "language": "python",
   "name": "python3"
  },
  "language_info": {
   "codemirror_mode": {
    "name": "ipython",
    "version": 3
   },
   "file_extension": ".py",
   "mimetype": "text/x-python",
   "name": "python",
   "nbconvert_exporter": "python",
   "pygments_lexer": "ipython3",
   "version": "3.10.14"
  }
 },
 "nbformat": 4,
 "nbformat_minor": 5
}
