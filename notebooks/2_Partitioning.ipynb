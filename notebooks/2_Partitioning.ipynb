{
 "cells": [
  {
   "cell_type": "markdown",
   "id": "0a8ba627-658b-4b0b-b225-0c2ba7f3365e",
   "metadata": {},
   "source": [
    "## Partitioning\n",
    "\n",
    "We are not only testing one dataset scenarios, but many others. However, to not redo the preproocessing process ([1. Sampling Based](), [2. Sequential Based]()) over and over, it is better to just copy the required parts of the scenarios.\n",
    "\n",
    "For example: Base dataset is 10 frames per video, another scenario is to use 2 frames per video, so we just need to copy the first two frames for each video, and save them to another directory.\n",
    "\n",
    "> Note: due to the simplicity of this task, the whole code is available in this notebook."
   ]
  },
  {
   "cell_type": "code",
   "execution_count": 1,
   "id": "19e2929f-2382-4522-99b1-320571ce41bf",
   "metadata": {},
   "outputs": [],
   "source": [
    "import re\n",
    "import os\n",
    "import shutil\n",
    "import random"
   ]
  },
  {
   "cell_type": "code",
   "execution_count": 2,
   "id": "79818856-139e-4dd0-9497-13593290b731",
   "metadata": {},
   "outputs": [],
   "source": [
    "def list_matches(source: str, target: str, max_allowed: int, seed: int):\n",
    "    random.seed(seed)\n",
    "    \n",
    "    src_files = os.listdir(source)\n",
    "    target_files = os.listdir(target)\n",
    "\n",
    "    eligibles = []\n",
    "    for srcf in src_files:\n",
    "        r = re.compile(rf\".*{srcf}\")\n",
    "        matched_frames = list(filter(r.match, target_files))\n",
    "        eligibles.append(\n",
    "            random.sample(matched_frames, max_allowed)\n",
    "        )\n",
    "        \n",
    "    return [f\"{target}/{item}\" for row in eligibles for item in row]"
   ]
  },
  {
   "cell_type": "code",
   "execution_count": 3,
   "id": "91e8970a-7584-48ea-803e-bf034501730e",
   "metadata": {},
   "outputs": [],
   "source": [
    "# list_matches(\"../data/raw/Celeb-DF-v2/REAL\", \"../data/preprocessed/MTCNN-Celeb-DF-v2/REAL\", 2)\n",
    "def copy_matches(matches: list[str], target: str):\n",
    "    if not os.path.exists(target):\n",
    "        os.makedirs(target)\n",
    "    \n",
    "    for i in matches:\n",
    "        shutil.copy(i, target)"
   ]
  },
  {
   "cell_type": "code",
   "execution_count": 4,
   "id": "0c66dec7-b811-4856-b323-d0615529c2eb",
   "metadata": {},
   "outputs": [],
   "source": [
    "# To test\n",
    "max_allowed_nums = [2, 3, 5, 7]\n",
    "classes = [\"REAL\", \"FAKE\"]\n",
    "video_sources = [\n",
    "    \"../data/raw/Celeb-DF-v2\",\n",
    "    \"../data/raw/DFDC\",\n",
    "    \"../data/raw/FaceForensics\",\n",
    "    \"../data/raw/Combined\"\n",
    "]\n",
    "\n",
    "match_check_targets = [\n",
    "    \"../data/preprocessed/MTCNN-Celeb-DF-v2\",\n",
    "    \"../data/preprocessed/MTCNN-DFDC/\",\n",
    "    \"../data/preprocessed/MTCNN-FaceForensics\",\n",
    "    \"../data/preprocessed/MTCNN-Combined\",\n",
    "]"
   ]
  },
  {
   "cell_type": "code",
   "execution_count": 5,
   "id": "29f1a2b5-262d-45b4-a9d4-573c62cd0367",
   "metadata": {},
   "outputs": [],
   "source": [
    "for maxa in max_allowed_nums:\n",
    "    cp_targets = [\n",
    "        f\"../data/preprocessed/Spl{maxa}-MTCNN-Celeb-DF-v2\",\n",
    "        f\"../data/preprocessed/Spl{maxa}-MTCNN-DFDC/\",\n",
    "        f\"../data/preprocessed/Spl{maxa}-MTCNN-FaceForensics\",\n",
    "        f\"../data/preprocessed/Spl{maxa}-MTCNN-Combined\",\n",
    "    ]\n",
    "    \n",
    "    for i in range(len(video_sources)):\n",
    "        for c in classes:\n",
    "            matches = list_matches(\n",
    "                source=f\"{video_sources[i]}/{c}\", \n",
    "                target=f\"{match_check_targets[i]}/{c}\", \n",
    "                max_allowed=maxa,\n",
    "                seed=42\n",
    "            )\n",
    "            copy_matches(matches, f\"{cp_targets[i]}/{c}\")"
   ]
  }
 ],
 "metadata": {
  "kernelspec": {
   "display_name": "Python 3 (ipykernel)",
   "language": "python",
   "name": "python3"
  },
  "language_info": {
   "codemirror_mode": {
    "name": "ipython",
    "version": 3
   },
   "file_extension": ".py",
   "mimetype": "text/x-python",
   "name": "python",
   "nbconvert_exporter": "python",
   "pygments_lexer": "ipython3",
   "version": "3.10.14"
  }
 },
 "nbformat": 4,
 "nbformat_minor": 5
}
