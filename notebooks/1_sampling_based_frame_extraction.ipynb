{
 "cells": [
  {
   "cell_type": "markdown",
   "id": "39bc9f71-1368-413c-8e83-49cc2927cee5",
   "metadata": {},
   "source": [
    "## Sampling-based Frame Extraction\n",
    "\n",
    "Below are example codes for preprocessing a raw dataset of videos into face frames, with `dlib` and `facenet_pytorch.MTCNN`. Make sure that the raw dataset has its directory structured like the one mentioned in the [README.md](../README.md).\n",
    "\n",
    "**Please be aware:** you might need to do manual intervention (re-running) as the face detection algorithms of `dlib` and `facenet_pytorch.MCTNN` might not detect faces in the frames. Check the log files available in `logs/` directory and watch for these messages:\n",
    "\n",
    "```bash\n",
    "ERROR:root:No face detected on ./videos-organized/Combined/FAKE/acdkfksyev.mp4 frame 233\n",
    "ERROR:root:No face detected on ./videos-organized/Combined/FAKE/alnkzqihau.mp4 frame 102\n",
    "```"
   ]
  },
  {
   "cell_type": "markdown",
   "id": "c66808b9-fe8f-4e1f-bb6f-65b31b396977",
   "metadata": {},
   "source": [
    "### Preliminary"
   ]
  },
  {
   "cell_type": "code",
   "execution_count": 1,
   "id": "b7654d68-b09d-4b06-9155-f666a0b8c9a4",
   "metadata": {},
   "outputs": [],
   "source": [
    "# Ensure __init__.py is being run before the script\n",
    "%run __init__.py"
   ]
  },
  {
   "cell_type": "markdown",
   "id": "943cca68-f34d-4774-899b-39fe1dd2771b",
   "metadata": {},
   "source": [
    "### Preprocessor\n",
    "\n",
    "There are two sampling-based generators: `MTCNNSampleGenerator()` and `MTCNNSampleGenerator`. Both have identical APIs. To instantiate the preprocessor classes, provide two arguments:\n",
    "\n",
    "- `dataset_path (str)`: Relative path to the raw dataset\n",
    "- `classes (list[str])`: Folders inside the dataset\n",
    "\n",
    "After instantiating, you can call `preprocess()` function to begin the frame extraction. Arguments for `preprocessor()` are:\n",
    "\n",
    "- `save_to (str)`: Where to save the extracted images\n",
    "- `n_frame (int)`: How many frames to extract per video\n",
    "- `cut_amount (float)`: Percentage of frames to be cut. e.g. setting to 0.1 is equal to 10% frames being cut in front and back, totaling 20%.\n",
    "- `batch_size (int)`: How many videos to process in a batch\n",
    "- `seed (int)`: To control the randomizer, guaranteeing identical reproducible results at every run."
   ]
  },
  {
   "cell_type": "markdown",
   "id": "7d481b9a-9605-43a7-9ac0-bb0a9dda3073",
   "metadata": {},
   "source": [
    "#### With MTCNN"
   ]
  },
  {
   "cell_type": "code",
   "execution_count": 2,
   "id": "f9689803-3371-4dad-b357-e4268561d11a",
   "metadata": {},
   "outputs": [],
   "source": [
    "from datetime import datetime\n",
    "\n",
    "from src.preprocessing.extractors.mtcnn_extractors import MTCNNSampleExtractor"
   ]
  },
  {
   "cell_type": "code",
   "execution_count": 3,
   "id": "b605ca58-8b58-488d-8c8b-2470950027df",
   "metadata": {},
   "outputs": [
    {
     "name": "stdout",
     "output_type": "stream",
     "text": [
      "Done extracting Dev-Sample's samples for 240.44s!\n",
      "Done extracting Celeb-DF-v2's samples for 968.26s!\n",
      "Done extracting DFDC's samples for 4799.07s!\n",
      "Done extracting FaceForensics's samples for 7019.9s!\n",
      "Done extracting Combined's samples for 6471.98s!\n"
     ]
    }
   ],
   "source": [
    "datasets = [\n",
    "    \"Dev-Sample\",\n",
    "    \"Celeb-DF-v2\",\n",
    "    \"DFDC\",\n",
    "    \"FaceForensics\",\n",
    "    \"Combined\"\n",
    "]\n",
    "\n",
    "for d in datasets:\n",
    "    ext = MTCNNSampleExtractor(\n",
    "        dataset_path=f\"../data/raw/{d}\",\n",
    "        classes=[\"REAL\", \"FAKE\"]\n",
    "    )\n",
    "\n",
    "    start = datetime.now()\n",
    "    ext.extract(\n",
    "        save_to=f\"../data/preprocessed/MTCNN-{d}\",\n",
    "        n_frame=10,\n",
    "        cut_amount=0.15,\n",
    "        batch_size=10,\n",
    "        seed=42,\n",
    "    )\n",
    "    elapsed = round((datetime.now() - start).total_seconds(), 2)\n",
    "    print(f\"Done extracting {d}'s samples for {elapsed}s!\")"
   ]
  },
  {
   "cell_type": "markdown",
   "id": "1c4aba7c-bcb9-4dbb-871b-3229a9c59184",
   "metadata": {},
   "source": [
    "#### With Dlib"
   ]
  },
  {
   "cell_type": "code",
   "execution_count": 2,
   "id": "913b90ba-299f-4ae8-b0ca-1bbd4a634358",
   "metadata": {},
   "outputs": [],
   "source": [
    "from datetime import datetime\n",
    "\n",
    "from src.preprocessing.extractors.dlib_extractors import DlibSampleExtractor"
   ]
  },
  {
   "cell_type": "code",
   "execution_count": null,
   "id": "8c1eedca-078d-4d6f-b4e7-40814b86639a",
   "metadata": {},
   "outputs": [],
   "source": [
    "datasets = [\n",
    "    # \"Dev-Sample\",\n",
    "    # \"Celeb-DF-v2\",\n",
    "    \"DFDC\",\n",
    "    # \"FaceForensics\",\n",
    "    \"Combined\"\n",
    "]\n",
    "\n",
    "for d in datasets:\n",
    "    ext = DlibSampleExtractor(\n",
    "        dataset_path=f\"../data/raw/{d}\",\n",
    "        classes=[\"REAL\", \"FAKE\"]\n",
    "    )\n",
    "\n",
    "    start = datetime.now()\n",
    "    ext.extract(\n",
    "        save_to=f\"../data/preprocessed/Dlib-{d}\",\n",
    "        n_frame=10,\n",
    "        cut_amount=0.15,\n",
    "        batch_size=10,\n",
    "        seed=42,\n",
    "    )\n",
    "    elapsed = round((datetime.now() - start).total_seconds(), 2)\n",
    "    print(f\"Done extracting {d}'s samples for {elapsed}s!\")"
   ]
  },
  {
   "cell_type": "code",
   "execution_count": null,
   "id": "d091e193-f6e0-4d72-92e0-14508e2b7a95",
   "metadata": {},
   "outputs": [],
   "source": []
  }
 ],
 "metadata": {
  "kernelspec": {
   "display_name": "Python 3 (ipykernel)",
   "language": "python",
   "name": "python3"
  },
  "language_info": {
   "codemirror_mode": {
    "name": "ipython",
    "version": 3
   },
   "file_extension": ".py",
   "mimetype": "text/x-python",
   "name": "python",
   "nbconvert_exporter": "python",
   "pygments_lexer": "ipython3",
   "version": "3.10.14"
  }
 },
 "nbformat": 4,
 "nbformat_minor": 5
}
