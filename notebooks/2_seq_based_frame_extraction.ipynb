{
 "cells": [
  {
   "cell_type": "markdown",
   "id": "bb20a264-94d1-47b2-a719-b79af67b8052",
   "metadata": {},
   "source": [
    "## Sequential-based Frame Extraction\n",
    "\n",
    "As discussed in previous notebook [1. Sampling-based Frame Extraction](./1_sampling_based_frame_extraction.ipynb), due to the random sampling nature of the preprocessor, it might grab a frame where `dlib` or `MTCNN` either does not detect a face or having difficulty in detecting one, resulting in incomplete number of frames per video. \n",
    "\n",
    "In this notebook, we intend to fix that by generating the remaining frames through a loop instead of sampling. If there are 10 frames per video but only 6 is detected in the first preprocessing step, this will complete the remaining 4 frames."
   ]
  },
  {
   "cell_type": "markdown",
   "id": "4bc8f8c6-1d04-46ac-abcc-4263c5b489ec",
   "metadata": {},
   "source": [
    "### Preliminary"
   ]
  },
  {
   "cell_type": "code",
   "execution_count": 6,
   "id": "f1c5bc2d-83f2-4a36-b5b5-9b09d643fce3",
   "metadata": {},
   "outputs": [],
   "source": [
    "# Ensure __init__.py is being run before the script\n",
    "%run __init__.py"
   ]
  },
  {
   "cell_type": "markdown",
   "id": "f33fe526-f851-4d32-bbe5-dac294ecba99",
   "metadata": {},
   "source": [
    "### Gatherer\n",
    "\n",
    "First, we need to examine the log file, and filter out the preprocessing method and the dataset we want to fix. The gatherer will also show some statistics about the errors.\n",
    "\n",
    "This will return a list of dictionary, shaped like so:\n",
    "\n",
    "```python\n",
    "    # filename: problematic frame count\n",
    "    {\n",
    "     \"../data/raw/DFDC/aaxejguth.mp4\": 2,\n",
    "     \"../data/raw/DFDC/mniodsvhr.mp4\": 6,\n",
    "    }\n",
    "```"
   ]
  },
  {
   "cell_type": "code",
   "execution_count": 2,
   "id": "12587bca-ed69-49b4-9ed5-696a0bc19f50",
   "metadata": {},
   "outputs": [
    {
     "data": {
      "text/plain": [
       "Counter({'../data/raw/DFDC/REAL/bnuwxhfahw.mp4': 7,\n",
       "         '../data/raw/DFDC/REAL/orblnqzpra.mp4': 7,\n",
       "         '../data/raw/DFDC/REAL/pdufsewrec.mp4': 5,\n",
       "         '../data/raw/DFDC/REAL/wfzjxzhdkj.mp4': 4,\n",
       "         '../data/raw/DFDC/REAL/bfjsthfhbd.mp4': 4,\n",
       "         '../data/raw/DFDC/REAL/ijvprklcmz.mp4': 4,\n",
       "         '../data/raw/DFDC/REAL/xkfliqnmwt.mp4': 3,\n",
       "         '../data/raw/DFDC/REAL/gsshxchgqv.mp4': 3,\n",
       "         '../data/raw/DFDC/REAL/ooafcxxfrs.mp4': 3,\n",
       "         '../data/raw/DFDC/REAL/wapflpdhyi.mp4': 3,\n",
       "         '../data/raw/DFDC/REAL/bkcyglmfci.mp4': 3,\n",
       "         '../data/raw/DFDC/REAL/peysyddtmp.mp4': 2,\n",
       "         '../data/raw/DFDC/REAL/scqcdvqiyq.mp4': 2,\n",
       "         '../data/raw/DFDC/REAL/jyoxdvxpza.mp4': 2,\n",
       "         '../data/raw/DFDC/REAL/kezwvsxxzj.mp4': 2,\n",
       "         '../data/raw/DFDC/REAL/rmlzgerevr.mp4': 2,\n",
       "         '../data/raw/DFDC/REAL/wbjtrlyjsm.mp4': 2,\n",
       "         '../data/raw/DFDC/REAL/uprwuohbwx.mp4': 1,\n",
       "         '../data/raw/DFDC/REAL/aokxvqadsx.mp4': 1,\n",
       "         '../data/raw/DFDC/REAL/fmhiujydwo.mp4': 1,\n",
       "         '../data/raw/DFDC/REAL/gahgyuwzbu.mp4': 1,\n",
       "         '../data/raw/DFDC/REAL/hbufmvbium.mp4': 1,\n",
       "         '../data/raw/DFDC/REAL/jgdrcvviil.mp4': 1,\n",
       "         '../data/raw/DFDC/REAL/nbdixxfjph.mp4': 1,\n",
       "         '../data/raw/DFDC/REAL/ptkcmwnfjv.mp4': 1,\n",
       "         '../data/raw/DFDC/REAL/rzljiqidhj.mp4': 1})"
      ]
     },
     "execution_count": 2,
     "metadata": {},
     "output_type": "execute_result"
    }
   ],
   "source": [
    "# Example\n",
    "from src.preprocessing.extractors.utils import IncompleteGatherer\n",
    "\n",
    "gatherer = IncompleteGatherer(\"./logs/2024-07-20_05-35-13.log\")\n",
    "x = gatherer.gather(\n",
    "    preprocessor=\"MTCNN\",\n",
    "    dataset=\"DFDC\",\n",
    "    dataclass=\"REAL\"\n",
    ")\n",
    "\n",
    "x"
   ]
  },
  {
   "cell_type": "markdown",
   "id": "fa3a9933-e955-4467-96b1-11e372eedb96",
   "metadata": {},
   "source": [
    "### Preprocessor\n",
    "\n",
    "Instead of taking path to a folder, this preprocessor will take the gatherer dictionary, with file names as the key and the value is the problematic frames"
   ]
  },
  {
   "cell_type": "markdown",
   "id": "d6793d07-05f0-44d0-82d8-80e97186a898",
   "metadata": {},
   "source": [
    "#### MTCNN"
   ]
  },
  {
   "cell_type": "code",
   "execution_count": 3,
   "id": "052fa71d-435f-4568-83b6-ec74384baebd",
   "metadata": {},
   "outputs": [],
   "source": [
    "from datetime import datetime \n",
    "\n",
    "from src.preprocessing.extractors.utils import IncompleteGatherer\n",
    "from src.preprocessing.extractors.mtcnn_extractors import MTCNNSeqExtractor"
   ]
  },
  {
   "cell_type": "code",
   "execution_count": 4,
   "id": "0d59921a-e11e-4a3d-b3dc-c9cb5ed22d08",
   "metadata": {},
   "outputs": [
    {
     "name": "stdout",
     "output_type": "stream",
     "text": [
      "Done extracting Dev-Sample's samples for 0.63s!\n",
      "Done extracting Dev-Sample's samples for 0.41s!\n",
      "Done extracting Celeb-DF-v2's samples for 0.1s!\n",
      "Done extracting DFDC's samples for 70.91s!\n",
      "Done extracting DFDC's samples for 73.32s!\n",
      "Done extracting Combined's samples for 45.58s!\n",
      "Done extracting Combined's samples for 30.84s!\n"
     ]
    }
   ],
   "source": [
    "datasets = [\n",
    "    \"Dev-Sample\",\n",
    "    \"Celeb-DF-v2\",\n",
    "    \"DFDC\",\n",
    "    \"FaceForensics\",\n",
    "    \"Combined\"\n",
    "]\n",
    "preprocessor = \"MTCNN\"\n",
    "classes = [\"REAL\", \"FAKE\"]\n",
    "\n",
    "for d in datasets:\n",
    "    for c in classes:\n",
    "        gatherer = IncompleteGatherer(\"./logs/2024-07-20_05-35-13.log\")\n",
    "        x = gatherer.gather(\n",
    "            preprocessor=preprocessor,\n",
    "            dataset=d,\n",
    "            dataclass=c\n",
    "        )\n",
    "\n",
    "        if not len(list(x)) > 0:\n",
    "            continue\n",
    "\n",
    "        start = datetime.now()\n",
    "        p = MTCNNSeqExtractor(x)\n",
    "        p.extract(save_to=f\"../data/preprocessed/{preprocessor}-{d}\", cut_amount=0.15)\n",
    "        elapsed = round((datetime.now() - start).total_seconds(), 2)\n",
    "        print(f\"Done extracting {d}'s samples for {elapsed}s!\")"
   ]
  },
  {
   "cell_type": "markdown",
   "id": "c8240291-9c0c-45d4-93b6-0cbcc5c60127",
   "metadata": {},
   "source": [
    "#### Dlib"
   ]
  },
  {
   "cell_type": "code",
   "execution_count": 9,
   "id": "ae24f846-ad18-4986-812a-716a41d8d092",
   "metadata": {},
   "outputs": [],
   "source": [
    "from datetime import datetime \n",
    "\n",
    "from src.preprocessing.extractors.utils import IncompleteGatherer\n",
    "from src.preprocessing.extractors.dlib_extractors import DlibSeqExtractor"
   ]
  },
  {
   "cell_type": "code",
   "execution_count": 10,
   "id": "1d2a8854-b8fb-4be7-a6b8-7adf8f63c70d",
   "metadata": {},
   "outputs": [
    {
     "ename": "KeyboardInterrupt",
     "evalue": "",
     "output_type": "error",
     "traceback": [
      "\u001b[0;31m---------------------------------------------------------------------------\u001b[0m",
      "\u001b[0;31mKeyboardInterrupt\u001b[0m                         Traceback (most recent call last)",
      "Cell \u001b[0;32mIn[10], line 25\u001b[0m\n\u001b[1;32m     23\u001b[0m start \u001b[38;5;241m=\u001b[39m datetime\u001b[38;5;241m.\u001b[39mnow()\n\u001b[1;32m     24\u001b[0m p \u001b[38;5;241m=\u001b[39m DlibSeqExtractor(x)\n\u001b[0;32m---> 25\u001b[0m \u001b[43mp\u001b[49m\u001b[38;5;241;43m.\u001b[39;49m\u001b[43mextract\u001b[49m\u001b[43m(\u001b[49m\u001b[43msave_to\u001b[49m\u001b[38;5;241;43m=\u001b[39;49m\u001b[38;5;124;43mf\u001b[39;49m\u001b[38;5;124;43m\"\u001b[39;49m\u001b[38;5;124;43m../data/preprocessed/\u001b[39;49m\u001b[38;5;132;43;01m{\u001b[39;49;00m\u001b[43mpreprocessor\u001b[49m\u001b[38;5;132;43;01m}\u001b[39;49;00m\u001b[38;5;124;43m-\u001b[39;49m\u001b[38;5;132;43;01m{\u001b[39;49;00m\u001b[43md\u001b[49m\u001b[38;5;132;43;01m}\u001b[39;49;00m\u001b[38;5;124;43m\"\u001b[39;49m\u001b[43m,\u001b[49m\u001b[43m \u001b[49m\u001b[43mcut_amount\u001b[49m\u001b[38;5;241;43m=\u001b[39;49m\u001b[38;5;241;43m0.15\u001b[39;49m\u001b[43m)\u001b[49m\n\u001b[1;32m     26\u001b[0m elapsed \u001b[38;5;241m=\u001b[39m \u001b[38;5;28mround\u001b[39m((datetime\u001b[38;5;241m.\u001b[39mnow() \u001b[38;5;241m-\u001b[39m start)\u001b[38;5;241m.\u001b[39mtotal_seconds(), \u001b[38;5;241m2\u001b[39m)\n\u001b[1;32m     27\u001b[0m \u001b[38;5;28mprint\u001b[39m(\u001b[38;5;124mf\u001b[39m\u001b[38;5;124m\"\u001b[39m\u001b[38;5;124mDone extracting \u001b[39m\u001b[38;5;132;01m{\u001b[39;00md\u001b[38;5;132;01m}\u001b[39;00m\u001b[38;5;124m'\u001b[39m\u001b[38;5;124ms samples for \u001b[39m\u001b[38;5;132;01m{\u001b[39;00melapsed\u001b[38;5;132;01m}\u001b[39;00m\u001b[38;5;124ms!\u001b[39m\u001b[38;5;124m\"\u001b[39m)\n",
      "File \u001b[0;32m/run/media/rdrachmanto/Extreme SSD/deepfake-identification/notebooks/../src/preprocessing/extractors/dlib_extractors.py:72\u001b[0m, in \u001b[0;36mDlibSeqExtractor.extract\u001b[0;34m(self, save_to, cut_amount)\u001b[0m\n\u001b[1;32m     69\u001b[0m _ \u001b[38;5;241m=\u001b[39m capture\u001b[38;5;241m.\u001b[39mset(cv2\u001b[38;5;241m.\u001b[39mCAP_PROP_POS_FRAMES, i)\n\u001b[1;32m     70\u001b[0m _, frame \u001b[38;5;241m=\u001b[39m capture\u001b[38;5;241m.\u001b[39mread()\n\u001b[0;32m---> 72\u001b[0m faces \u001b[38;5;241m=\u001b[39m \u001b[38;5;28;43mself\u001b[39;49m\u001b[38;5;241;43m.\u001b[39;49m\u001b[43mdetect_face\u001b[49m\u001b[43m(\u001b[49m\u001b[43mframe\u001b[49m\u001b[43m)\u001b[49m\n\u001b[1;32m     73\u001b[0m \u001b[38;5;28;01mif\u001b[39;00m \u001b[38;5;129;01mnot\u001b[39;00m \u001b[38;5;28mlen\u001b[39m(faces) \u001b[38;5;241m>\u001b[39m \u001b[38;5;241m0\u001b[39m:  \u001b[38;5;66;03m# type: ignore[reportUnknownArgumentType]\u001b[39;00m\n\u001b[1;32m     74\u001b[0m     \u001b[38;5;28;01mcontinue\u001b[39;00m\n",
      "File \u001b[0;32m/run/media/rdrachmanto/Extreme SSD/deepfake-identification/notebooks/../src/preprocessing/extractors/detectors.py:31\u001b[0m, in \u001b[0;36mDlibDetector.detect_face\u001b[0;34m(self, frame)\u001b[0m\n\u001b[1;32m     29\u001b[0m frame \u001b[38;5;241m=\u001b[39m cv2\u001b[38;5;241m.\u001b[39mcvtColor(frame, cv2\u001b[38;5;241m.\u001b[39mCOLOR_BGR2GRAY)\n\u001b[1;32m     30\u001b[0m detector \u001b[38;5;241m=\u001b[39m dlib\u001b[38;5;241m.\u001b[39mget_frontal_face_detector()\n\u001b[0;32m---> 31\u001b[0m \u001b[38;5;28;01mreturn\u001b[39;00m \u001b[43mdetector\u001b[49m\u001b[43m(\u001b[49m\u001b[43mframe\u001b[49m\u001b[43m,\u001b[49m\u001b[43m \u001b[49m\u001b[38;5;241;43m1\u001b[39;49m\u001b[43m)\u001b[49m\n",
      "\u001b[0;31mKeyboardInterrupt\u001b[0m: "
     ]
    }
   ],
   "source": [
    "datasets = [\n",
    "    # \"Dev-Sample\",\n",
    "    # \"Celeb-DF-v2\",\n",
    "    \"DFDC\",\n",
    "    # \"FaceForensics\",\n",
    "    \"Combined\"\n",
    "]\n",
    "preprocessor = \"Dlib\"\n",
    "classes = [\"REAL\", \"FAKE\"]\n",
    "\n",
    "for d in datasets:\n",
    "    for c in classes:\n",
    "        gatherer = IncompleteGatherer(\"./logs/2024-07-20_05-35-13.log\")\n",
    "        x = gatherer.gather(\n",
    "            preprocessor=preprocessor,\n",
    "            dataset=d,\n",
    "            dataclass=c\n",
    "        )\n",
    "\n",
    "        if not len(list(x)) > 0:\n",
    "            continue\n",
    "\n",
    "        start = datetime.now()\n",
    "        p = DlibSeqExtractor(x)\n",
    "        p.extract(save_to=f\"../data/preprocessed/{preprocessor}-{d}\", cut_amount=0.15)\n",
    "        elapsed = round((datetime.now() - start).total_seconds(), 2)\n",
    "        print(f\"Done extracting {d}'s samples for {elapsed}s!\")"
   ]
  }
 ],
 "metadata": {
  "kernelspec": {
   "display_name": "Python 3 (ipykernel)",
   "language": "python",
   "name": "python3"
  },
  "language_info": {
   "codemirror_mode": {
    "name": "ipython",
    "version": 3
   },
   "file_extension": ".py",
   "mimetype": "text/x-python",
   "name": "python",
   "nbconvert_exporter": "python",
   "pygments_lexer": "ipython3",
   "version": "3.10.14"
  }
 },
 "nbformat": 4,
 "nbformat_minor": 5
}
