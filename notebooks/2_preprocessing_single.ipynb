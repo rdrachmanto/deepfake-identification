{
 "cells": [
  {
   "cell_type": "markdown",
   "id": "bb20a264-94d1-47b2-a719-b79af67b8052",
   "metadata": {},
   "source": [
    "## Preprocessing Single Files\n",
    "\n",
    "This notebook is an example for doing manual intervention if the [previous](./1_preprocessing.ipynb) notebook's way have errors."
   ]
  },
  {
   "cell_type": "markdown",
   "id": "4bc8f8c6-1d04-46ac-abcc-4263c5b489ec",
   "metadata": {},
   "source": [
    "### Preliminary"
   ]
  },
  {
   "cell_type": "code",
   "execution_count": 2,
   "id": "f1c5bc2d-83f2-4a36-b5b5-9b09d643fce3",
   "metadata": {},
   "outputs": [],
   "source": [
    "# Ensure __init__.py is being run before the script\n",
    "%run __init__.py"
   ]
  },
  {
   "cell_type": "markdown",
   "id": "f33fe526-f851-4d32-bbe5-dac294ecba99",
   "metadata": {},
   "source": [
    "### Gatherer\n",
    "\n",
    "First, we need to examine the log file, and filter out the preprocessing method and the dataset we want to fix. The gatherer will also show some statistics about the errors (how many files per REAL/FAKE set, how many frames are problematic).\n",
    "\n",
    "This will return a list of dictionaries, shaped like so:\n",
    "\n",
    "```python\n",
    "[\n",
    "    # filename: problematic frame count\n",
    "    {\"../data/raw/DFDC/aaxejguth.mp4\": 2},\n",
    "    {\"../data/raw/DFDC/mniodsvhr.mp4\": 6},\n",
    "    ...\n",
    "]\n",
    "```"
   ]
  },
  {
   "cell_type": "code",
   "execution_count": 3,
   "id": "c5143d1f-cc3d-4cad-af1f-e199dafb6f2a",
   "metadata": {},
   "outputs": [],
   "source": [
    "# Code ...."
   ]
  },
  {
   "cell_type": "markdown",
   "id": "fa3a9933-e955-4467-96b1-11e372eedb96",
   "metadata": {},
   "source": [
    "### Preprocessor\n",
    "\n",
    "Instead of taking path to a folder, this preprocessor will take a list of dictionaries, with file names as the key and the value is the problematic frames"
   ]
  }
 ],
 "metadata": {
  "kernelspec": {
   "display_name": "Python 3 (ipykernel)",
   "language": "python",
   "name": "python3"
  },
  "language_info": {
   "codemirror_mode": {
    "name": "ipython",
    "version": 3
   },
   "file_extension": ".py",
   "mimetype": "text/x-python",
   "name": "python",
   "nbconvert_exporter": "python",
   "pygments_lexer": "ipython3",
   "version": "3.10.14"
  }
 },
 "nbformat": 4,
 "nbformat_minor": 5
}
