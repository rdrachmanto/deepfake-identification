{
 "cells": [
  {
   "cell_type": "markdown",
   "id": "bb20a264-94d1-47b2-a719-b79af67b8052",
   "metadata": {},
   "source": [
    "## Preprocessing Single Files\n",
    "\n",
    "This notebook is an example for doing manual intervention if the [previous](./1_preprocessing.ipynb) notebook's way have errors."
   ]
  },
  {
   "cell_type": "markdown",
   "id": "4bc8f8c6-1d04-46ac-abcc-4263c5b489ec",
   "metadata": {},
   "source": [
    "### Preliminary"
   ]
  },
  {
   "cell_type": "code",
   "execution_count": 1,
   "id": "f1c5bc2d-83f2-4a36-b5b5-9b09d643fce3",
   "metadata": {},
   "outputs": [],
   "source": [
    "# Ensure __init__.py is being run before the script\n",
    "%run __init__.py"
   ]
  },
  {
   "cell_type": "markdown",
   "id": "f33fe526-f851-4d32-bbe5-dac294ecba99",
   "metadata": {},
   "source": [
    "### Gatherer\n",
    "\n",
    "First, we need to examine the log file, and filter out the preprocessing method and the dataset we want to fix. The gatherer will also show some statistics about the errors (how many files per REAL/FAKE set, how many frames are problematic).\n",
    "\n",
    "This will return a list of dictionary, shaped like so:\n",
    "\n",
    "```python\n",
    "    # filename: problematic frame count\n",
    "    {\n",
    "     \"../data/raw/DFDC/aaxejguth.mp4\": 2,\n",
    "     \"../data/raw/DFDC/mniodsvhr.mp4\": 6,\n",
    "    }\n",
    "```"
   ]
  },
  {
   "cell_type": "code",
   "execution_count": 2,
   "id": "12587bca-ed69-49b4-9ed5-696a0bc19f50",
   "metadata": {},
   "outputs": [
    {
     "data": {
      "text/plain": [
       "Counter({'../data/raw/DFDC/REAL/bnuwxhfahw.mp4': 7,\n",
       "         '../data/raw/DFDC/REAL/orblnqzpra.mp4': 7,\n",
       "         '../data/raw/DFDC/REAL/pdufsewrec.mp4': 5,\n",
       "         '../data/raw/DFDC/REAL/wfzjxzhdkj.mp4': 4,\n",
       "         '../data/raw/DFDC/REAL/bfjsthfhbd.mp4': 4,\n",
       "         '../data/raw/DFDC/REAL/ijvprklcmz.mp4': 4,\n",
       "         '../data/raw/DFDC/REAL/xkfliqnmwt.mp4': 3,\n",
       "         '../data/raw/DFDC/REAL/gsshxchgqv.mp4': 3,\n",
       "         '../data/raw/DFDC/REAL/ooafcxxfrs.mp4': 3,\n",
       "         '../data/raw/DFDC/REAL/wapflpdhyi.mp4': 3,\n",
       "         '../data/raw/DFDC/REAL/bkcyglmfci.mp4': 3,\n",
       "         '../data/raw/DFDC/REAL/peysyddtmp.mp4': 2,\n",
       "         '../data/raw/DFDC/REAL/scqcdvqiyq.mp4': 2,\n",
       "         '../data/raw/DFDC/REAL/jyoxdvxpza.mp4': 2,\n",
       "         '../data/raw/DFDC/REAL/kezwvsxxzj.mp4': 2,\n",
       "         '../data/raw/DFDC/REAL/rmlzgerevr.mp4': 2,\n",
       "         '../data/raw/DFDC/REAL/wbjtrlyjsm.mp4': 2,\n",
       "         '../data/raw/DFDC/REAL/uprwuohbwx.mp4': 1,\n",
       "         '../data/raw/DFDC/REAL/aokxvqadsx.mp4': 1,\n",
       "         '../data/raw/DFDC/REAL/fmhiujydwo.mp4': 1,\n",
       "         '../data/raw/DFDC/REAL/gahgyuwzbu.mp4': 1,\n",
       "         '../data/raw/DFDC/REAL/hbufmvbium.mp4': 1,\n",
       "         '../data/raw/DFDC/REAL/jgdrcvviil.mp4': 1,\n",
       "         '../data/raw/DFDC/REAL/nbdixxfjph.mp4': 1,\n",
       "         '../data/raw/DFDC/REAL/ptkcmwnfjv.mp4': 1,\n",
       "         '../data/raw/DFDC/REAL/rzljiqidhj.mp4': 1})"
      ]
     },
     "execution_count": 2,
     "metadata": {},
     "output_type": "execute_result"
    }
   ],
   "source": [
    "# Example\n",
    "from src.preprocessing.utils import IncompleteGatherer\n",
    "\n",
    "gatherer = IncompleteGatherer(\"./logs/2024-07-11_07-53-11.log\")\n",
    "x = gatherer.gather(\n",
    "    preprocessor=\"MTCNN\",\n",
    "    dataset=\"DFDC\",\n",
    "    dataclass=\"REAL\"\n",
    ")\n",
    "\n",
    "x"
   ]
  },
  {
   "cell_type": "markdown",
   "id": "fa3a9933-e955-4467-96b1-11e372eedb96",
   "metadata": {},
   "source": [
    "### Preprocessor\n",
    "\n",
    "Instead of taking path to a folder, this preprocessor will take the gatherer dictionary, with file names as the key and the value is the problematic frames"
   ]
  },
  {
   "cell_type": "markdown",
   "id": "61487e3c-95e6-4c56-b90a-c7a2e0f96da0",
   "metadata": {},
   "source": [
    "#### MTCNN"
   ]
  },
  {
   "cell_type": "code",
   "execution_count": 3,
   "id": "283ad4c5-0d40-4108-9fa2-3c779d0850d7",
   "metadata": {},
   "outputs": [
    {
     "name": "stdout",
     "output_type": "stream",
     "text": [
      "Done preprocessing MTCNN-DFDC : REAL\n",
      "Done preprocessing MTCNN-DFDC : FAKE\n"
     ]
    }
   ],
   "source": [
    "from src.preprocessing.mtcnn_preprocessor import MTCNNListPreprocessor\n",
    "from src.preprocessing.utils import IncompleteGatherer\n",
    "\n",
    "dataset = \"DFDC\"\n",
    "preprocessor = \"MTCNN\"\n",
    "classes = [\"REAL\", \"FAKE\"]\n",
    "\n",
    "for c in classes:\n",
    "    gatherer = IncompleteGatherer(\"./logs/2024-07-11_07-53-11.log\")\n",
    "    x = gatherer.gather(\n",
    "        preprocessor=preprocessor,\n",
    "        dataset=dataset,\n",
    "        dataclass=c\n",
    "    )\n",
    "    \n",
    "    p = MTCNNListPreprocessor(x)\n",
    "    p.preprocess(save_to=f\"../data/preprocessed/{preprocessor}-{dataset}\", cut_amount=0.15)\n",
    "    print(f\"Done preprocessing {preprocessor}-{dataset} : {c}\")"
   ]
  },
  {
   "cell_type": "code",
   "execution_count": 5,
   "id": "ab872e46-0e8d-4108-8e09-83407e4cc3c4",
   "metadata": {},
   "outputs": [
    {
     "name": "stdout",
     "output_type": "stream",
     "text": [
      "Done preprocessing MTCNN-Combined : REAL\n",
      "Done preprocessing MTCNN-Combined : FAKE\n"
     ]
    }
   ],
   "source": [
    "dataset = \"Combined\"\n",
    "preprocessor = \"MTCNN\"\n",
    "classes = [\"REAL\", \"FAKE\"]\n",
    "\n",
    "for c in classes:\n",
    "    gatherer = IncompleteGatherer(\"./logs/2024-07-11_07-53-11.log\")\n",
    "    x = gatherer.gather(\n",
    "        preprocessor=preprocessor,\n",
    "        dataset=dataset,\n",
    "        dataclass=c\n",
    "    )\n",
    "    \n",
    "    p = MTCNNListPreprocessor(x)\n",
    "    p.preprocess(save_to=f\"../data/preprocessed/{preprocessor}-{dataset}\", cut_amount=0.15)\n",
    "    print(f\"Done preprocessing {preprocessor}-{dataset} : {c}\")"
   ]
  },
  {
   "cell_type": "markdown",
   "id": "f8c9ef51-86db-49c4-adb4-8c66f572a205",
   "metadata": {},
   "source": [
    "#### Dlib"
   ]
  },
  {
   "cell_type": "code",
   "execution_count": 6,
   "id": "128c99c5-1886-40ec-9d80-c2fb9204bbf5",
   "metadata": {},
   "outputs": [
    {
     "name": "stdout",
     "output_type": "stream",
     "text": [
      "Done preprocessing Dlib-Celeb-DF-v2 : REAL\n",
      "Done preprocessing Dlib-Celeb-DF-v2 : FAKE\n"
     ]
    }
   ],
   "source": [
    "from src.preprocessing.dlib_preprocessor import DlibListPreprocessor\n",
    "from src.preprocessing.utils import IncompleteGatherer\n",
    "\n",
    "dataset = \"Celeb-DF-v2\"\n",
    "preprocessor = \"Dlib\"\n",
    "classes = [\"REAL\", \"FAKE\"]\n",
    "\n",
    "for c in classes:\n",
    "    gatherer = IncompleteGatherer(\"./logs/2024-07-11_07-53-11.log\")\n",
    "    x = gatherer.gather(\n",
    "        preprocessor=preprocessor,\n",
    "        dataset=dataset,\n",
    "        dataclass=c\n",
    "    )\n",
    "    \n",
    "    p = MTCNNListPreprocessor(x)\n",
    "    p.preprocess(save_to=f\"../data/preprocessed/{preprocessor}-{dataset}\", cut_amount=0.15)\n",
    "    print(f\"Done preprocessing {preprocessor}-{dataset} : {c}\")"
   ]
  },
  {
   "cell_type": "code",
   "execution_count": 7,
   "id": "03d13cad-c0af-4bef-912a-3611c78b5fed",
   "metadata": {},
   "outputs": [
    {
     "name": "stdout",
     "output_type": "stream",
     "text": [
      "Done preprocessing Dlib-FaceForensics : REAL\n"
     ]
    }
   ],
   "source": [
    "from src.preprocessing.dlib_preprocessor import DlibListPreprocessor\n",
    "from src.preprocessing.utils import IncompleteGatherer\n",
    "\n",
    "dataset = \"FaceForensics\"\n",
    "preprocessor = \"Dlib\"\n",
    "classes = [\"REAL\"]\n",
    "\n",
    "for c in classes:\n",
    "    gatherer = IncompleteGatherer(\"./logs/2024-07-11_07-53-11.log\")\n",
    "    x = gatherer.gather(\n",
    "        preprocessor=preprocessor,\n",
    "        dataset=dataset,\n",
    "        dataclass=c\n",
    "    )\n",
    "    \n",
    "    p = MTCNNListPreprocessor(x)\n",
    "    p.preprocess(save_to=f\"../data/preprocessed/{preprocessor}-{dataset}\", cut_amount=0.15)\n",
    "    print(f\"Done preprocessing {preprocessor}-{dataset} : {c}\")"
   ]
  },
  {
   "cell_type": "code",
   "execution_count": 8,
   "id": "9bc8ab58-729c-418c-805c-fd2e0924dd70",
   "metadata": {},
   "outputs": [
    {
     "name": "stdout",
     "output_type": "stream",
     "text": [
      "Done preprocessing Dlib-DFDC : REAL\n",
      "Done preprocessing Dlib-DFDC : FAKE\n"
     ]
    }
   ],
   "source": [
    "from src.preprocessing.dlib_preprocessor import DlibListPreprocessor\n",
    "from src.preprocessing.utils import IncompleteGatherer\n",
    "\n",
    "dataset = \"DFDC\"\n",
    "preprocessor = \"Dlib\"\n",
    "classes = [\"REAL\", \"FAKE\"]\n",
    "\n",
    "for c in classes:\n",
    "    gatherer = IncompleteGatherer(\"./logs/2024-07-11_07-53-11.log\")\n",
    "    x = gatherer.gather(\n",
    "        preprocessor=preprocessor,\n",
    "        dataset=dataset,\n",
    "        dataclass=c\n",
    "    )\n",
    "    \n",
    "    p = MTCNNListPreprocessor(x)\n",
    "    p.preprocess(save_to=f\"../data/preprocessed/{preprocessor}-{dataset}\", cut_amount=0.15)\n",
    "    print(f\"Done preprocessing {preprocessor}-{dataset} : {c}\")"
   ]
  },
  {
   "cell_type": "code",
   "execution_count": 10,
   "id": "2d97f37e-6fd0-4f37-aa09-da01949becb7",
   "metadata": {},
   "outputs": [
    {
     "name": "stdout",
     "output_type": "stream",
     "text": [
      "Done preprocessing Dlib-Combined : REAL\n",
      "Done preprocessing Dlib-Combined : FAKE\n"
     ]
    }
   ],
   "source": [
    "from src.preprocessing.dlib_preprocessor import DlibListPreprocessor\n",
    "from src.preprocessing.utils import IncompleteGatherer\n",
    "\n",
    "dataset = \"Combined\"\n",
    "preprocessor = \"Dlib\"\n",
    "classes = [\"REAL\", \"FAKE\"]\n",
    "\n",
    "for c in classes:\n",
    "    gatherer = IncompleteGatherer(\"./logs/2024-07-11_07-53-11.log\")\n",
    "    x = gatherer.gather(\n",
    "        preprocessor=preprocessor,\n",
    "        dataset=dataset,\n",
    "        dataclass=c\n",
    "    )\n",
    "    \n",
    "    p = MTCNNListPreprocessor(x)\n",
    "    p.preprocess(save_to=f\"../data/preprocessed/{preprocessor}-{dataset}\", cut_amount=0.15)\n",
    "    print(f\"Done preprocessing {preprocessor}-{dataset} : {c}\")"
   ]
  },
  {
   "cell_type": "code",
   "execution_count": null,
   "id": "e1073955-aaa4-469b-b3fe-5f35741e8523",
   "metadata": {},
   "outputs": [],
   "source": []
  }
 ],
 "metadata": {
  "kernelspec": {
   "display_name": "Python 3 (ipykernel)",
   "language": "python",
   "name": "python3"
  },
  "language_info": {
   "codemirror_mode": {
    "name": "ipython",
    "version": 3
   },
   "file_extension": ".py",
   "mimetype": "text/x-python",
   "name": "python",
   "nbconvert_exporter": "python",
   "pygments_lexer": "ipython3",
   "version": "3.10.14"
  }
 },
 "nbformat": 4,
 "nbformat_minor": 5
}
