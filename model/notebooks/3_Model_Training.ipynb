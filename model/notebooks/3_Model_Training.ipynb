{
 "cells": [
  {
   "cell_type": "markdown",
   "id": "4f55cd52-720c-448b-854b-0c6aa18bc00c",
   "metadata": {},
   "source": [
    "## Model Training\n",
    "\n",
    "Model training stage focuses on using Xception and its improvements. We are testing four models, titled baseline and improvement 1 to 3. Each model's specifications and workflow can be seen in their respective \"scenarios\", available in `src.nn.scenarios`. \n",
    "\n",
    "Due to the computation load of this task, it is advisable to run this on a capable hardware."
   ]
  },
  {
   "cell_type": "markdown",
   "id": "944db900-5e3d-4d4f-9740-df65610afb50",
   "metadata": {},
   "source": [
    "### Prelim"
   ]
  },
  {
   "cell_type": "code",
   "execution_count": null,
   "id": "f8dc4399-8eb0-4869-9959-d8084b495249",
   "metadata": {},
   "outputs": [],
   "source": [
    "%run __init__.py\n",
    "\n",
    "%env PYTORCH_CUDA_ALLOC_CONF=expandable_segments:True"
   ]
  },
  {
   "cell_type": "markdown",
   "id": "b3f70a1f-a947-411a-a4f3-2d0503884c46",
   "metadata": {},
   "source": [
    "### Baseline"
   ]
  },
  {
   "cell_type": "code",
   "execution_count": null,
   "id": "dc0bbfa0-92a7-49d8-912d-4f82dffaf759",
   "metadata": {},
   "outputs": [],
   "source": [
    "from torchvision import transforms\n",
    "\n",
    "from src.nn.scenarios.baseline import XceptionNetBaseline\n",
    "from src.nn.training import data_loader"
   ]
  },
  {
   "cell_type": "code",
   "execution_count": null,
   "id": "cee31871-71b3-4894-a2b9-42f7805f0f91",
   "metadata": {},
   "outputs": [],
   "source": [
    "pretrained_train_loader, _, pretrained_test_loader = data_loader.load_data(\n",
    "    path=\"../data/preprocessed/MTCNN-Celeb-DF-v2\",  # change this to whatever dataset required\n",
    "    transforms=transforms.Compose([\n",
    "        transforms.Resize((299, 299)),\n",
    "        transforms.ToTensor()\n",
    "    ]),\n",
    "    train_size=0.8,\n",
    "    val_size=0.1,\n",
    "    batch_size=2,  # Should be 32\n",
    ")\n",
    "\n",
    "fine_tuning_train_loader, _, fine_tuning_test_loader = data_loader.load_data(\n",
    "    path=\"../data/preprocessed/MTCNN-Celeb-DF-v2\",\n",
    "    transforms=transforms.Compose([\n",
    "        transforms.Resize((299, 299)),\n",
    "        transforms.ToTensor()\n",
    "    ]),\n",
    "    train_size=0.8,\n",
    "    val_size=0.1,\n",
    "    batch_size=2,  # Should be 16\n",
    ")\n",
    "\n",
    "model = XceptionNetBaseline()\n",
    "model.train(\n",
    "    pretrain_train_loader=pretrained_train_loader,\n",
    "    pretrain_test_loader=pretrained_test_loader,\n",
    "    pretraining_epochs=1,  # Should be 3\n",
    "    fine_tuning_train_loader=fine_tuning_train_loader,\n",
    "    fine_tuning_test_loader=fine_tuning_test_loader,\n",
    "    fine_tuning_epochs=1,  # Should be 15\n",
    "    save_to=\"../models/Celeb-DF-v2-Split10-XceptionNetBaseline\",\n",
    ")"
   ]
  },
  {
   "cell_type": "markdown",
   "id": "17928ecd-e665-4cf0-a7c1-038750c0ef46",
   "metadata": {},
   "source": [
    "### Improvement 1\n",
    "\n",
    "For this model, XceptionNet is used only as feature extractor. Then, a few layers are added at the tail as the classifier."
   ]
  },
  {
   "cell_type": "code",
   "execution_count": null,
   "id": "8d550b84-b81a-44e5-ac3d-b32165afc5db",
   "metadata": {},
   "outputs": [],
   "source": [
    "from torchvision import transforms\n",
    "\n",
    "from src.nn.scenarios.improvement_1 import XceptionNetImprovement1\n",
    "from src.nn.training import data_loader"
   ]
  },
  {
   "cell_type": "code",
   "execution_count": null,
   "id": "7a0acd00-c65b-4bc3-ab4c-ee6737ba73c7",
   "metadata": {},
   "outputs": [],
   "source": [
    "train_loader, _, test_loader = data_loader.load_data(\n",
    "    path=\"../data/preprocessed/MTCNN-Celeb-DF-v2\",\n",
    "    transforms=transforms.Compose([\n",
    "        transforms.Resize((299, 299)),\n",
    "        transforms.ToTensor()\n",
    "    ]),\n",
    "    train_size=0.8,\n",
    "    val_size=0.1,\n",
    "    batch_size=2,  # Should be 32\n",
    ")\n",
    "\n",
    "model = XceptionNetImprovement1()\n",
    "model.train(\n",
    "    train_loader=train_loader,\n",
    "    test_loader=test_loader,\n",
    "    epochs=2,  # Should be 15\n",
    "    save_to=\"../models/Celeb-DF-v2-Split10-XceptionNetImprovement1\",\n",
    ")"
   ]
  },
  {
   "cell_type": "markdown",
   "id": "8b91f850-a975-4193-a9d2-6bfe7390c9de",
   "metadata": {},
   "source": [
    "### Improvement 2"
   ]
  },
  {
   "cell_type": "code",
   "execution_count": null,
   "id": "c3b81135-c0ea-4576-bfdb-a84b341b432f",
   "metadata": {},
   "outputs": [],
   "source": [
    "from torchvision import transforms\n",
    "\n",
    "from src.nn.scenarios.improvement_2 import XceptionNetImprovement2\n",
    "from src.nn.training import data_loader"
   ]
  },
  {
   "cell_type": "code",
   "execution_count": null,
   "id": "54d50170-8308-4ad2-9e20-96ff87512756",
   "metadata": {},
   "outputs": [],
   "source": [
    "pretrained_train_loader, _, pretrained_test_loader = data_loader.load_data(\n",
    "    path=\"../data/preprocessed/MTCNN-Celeb-DF-v2\",\n",
    "    transforms=transforms.Compose([\n",
    "        transforms.Resize((299, 299)),\n",
    "        transforms.ToTensor()\n",
    "    ]),\n",
    "    train_size=0.8,\n",
    "    val_size=0.1,\n",
    "    batch_size=2,  # Should be 32\n",
    ")\n",
    "\n",
    "fine_tuning_train_loader, _, fine_tuning_test_loader = data_loader.load_data(\n",
    "    path=\"../data/preprocessed/MTCNN-Celeb-DF-v2\",\n",
    "    transforms=transforms.Compose([\n",
    "        transforms.Resize((299, 299)),\n",
    "        transforms.ToTensor()\n",
    "    ]),\n",
    "    train_size=0.8,\n",
    "    val_size=0.1,\n",
    "    batch_size=2,  # Should be 16\n",
    ")\n",
    "\n",
    "model = XceptionNetImprovement2()\n",
    "model.train(\n",
    "    pretrain_train_loader=pretrained_train_loader,\n",
    "    pretrain_test_loader=pretrained_test_loader,\n",
    "    pretraining_epochs=1,  # Should be 3\n",
    "    fine_tuning_train_loader=fine_tuning_train_loader,\n",
    "    fine_tuning_test_loader=fine_tuning_test_loader,\n",
    "    fine_tuning_epochs=1,  # Should be 15\n",
    "    save_to=\"../models/Celeb-DF-v2-Split10-XceptionNetImprovement2\",\n",
    ")"
   ]
  },
  {
   "cell_type": "markdown",
   "id": "83d27305-32fa-440b-8c1c-d204b6a5f2fd",
   "metadata": {},
   "source": [
    "### Improvement 3"
   ]
  },
  {
   "cell_type": "code",
   "execution_count": null,
   "id": "b4a1e503-fe4b-40f4-823d-045c2e77c6bb",
   "metadata": {},
   "outputs": [],
   "source": [
    "from torchvision import transforms\n",
    "\n",
    "from src.nn.scenarios.improvement_3 import XceptionNetImprovement3\n",
    "from src.nn.training import data_loader"
   ]
  },
  {
   "cell_type": "code",
   "execution_count": null,
   "id": "94bc2e80-6373-4765-baf3-2fe74be02e43",
   "metadata": {},
   "outputs": [],
   "source": [
    "train_loader, _, test_loader = data_loader.load_data(\n",
    "    path=\"../data/preprocessed/MTCNN-Celeb-DF-v2\",\n",
    "    transforms=transforms.Compose([\n",
    "        transforms.Resize((299, 299)),\n",
    "        transforms.ToTensor()\n",
    "    ]),\n",
    "    train_size=0.8,\n",
    "    val_size=0.1,\n",
    "    batch_size=2,  # Should be 32\n",
    ")\n",
    "\n",
    "model = XceptionNetImprovement3()\n",
    "model.train(\n",
    "    train_loader=train_loader,\n",
    "    test_loader=test_loader,\n",
    "    epochs=2,  # Should be 15\n",
    "    save_to=\"../models/Celeb-DF-v2-Split10-XceptionNetImprovement3\",\n",
    ")"
   ]
  }
 ],
 "metadata": {
  "kernelspec": {
   "display_name": "Python 3 (ipykernel)",
   "language": "python",
   "name": "python3"
  },
  "language_info": {
   "codemirror_mode": {
    "name": "ipython",
    "version": 3
   },
   "file_extension": ".py",
   "mimetype": "text/x-python",
   "name": "python",
   "nbconvert_exporter": "python",
   "pygments_lexer": "ipython3",
   "version": "3.10.14"
  }
 },
 "nbformat": 4,
 "nbformat_minor": 5
}
